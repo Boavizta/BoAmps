{
 "cells": [
  {
   "cell_type": "code",
   "execution_count": 1,
   "id": "0e9dc7cc",
   "metadata": {},
   "outputs": [],
   "source": [
    "import ipywidgets as widgets\n",
    "from ipywidgets import interact, interactive, fixed, interact_manual\n",
    "from IPython.display import display\n"
   ]
  },
  {
   "cell_type": "code",
   "execution_count": 83,
   "id": "b80b5e0c",
   "metadata": {},
   "outputs": [],
   "source": [
    "POSITIVE_ANSWER= \"yes\"\n",
    "NEGATIVE_ANSWER=\"false\""
   ]
  },
  {
   "cell_type": "code",
   "execution_count": 84,
   "id": "773d468c",
   "metadata": {},
   "outputs": [
    {
     "name": "stdout",
     "output_type": "stream",
     "text": [
      "Do you want to define a header ? 12\n"
     ]
    }
   ],
   "source": [
    "infraType = int(input(\"Do you want to define a header ? \")) \n"
   ]
  },
  {
   "cell_type": "markdown",
   "id": "6a2d2787",
   "metadata": {},
   "source": [
    "## Infrastrcuture"
   ]
  },
  {
   "cell_type": "code",
   "execution_count": 2,
   "id": "138d72d5",
   "metadata": {},
   "outputs": [
    {
     "data": {
      "application/vnd.jupyter.widget-view+json": {
       "model_id": "862dfb993c734df3aea39bae5fce1119",
       "version_major": 2,
       "version_minor": 0
      },
      "text/plain": [
       "Dropdown(description='Select Right Option', options=('publicCloud', 'privateCloud', 'onPremise', '$other'), va…"
      ]
     },
     "metadata": {},
     "output_type": "display_data"
    }
   ],
   "source": [
    "infraType=widgets.Dropdown(options=[\"publicCloud\",\"privateCloud\",\"onPremise\",\"$other\"], value= \"publicCloud\", description=\"Select Right Option\")\n",
    "display(infraType)"
   ]
  },
  {
   "cell_type": "code",
   "execution_count": 3,
   "id": "16b3e416",
   "metadata": {},
   "outputs": [
    {
     "data": {
      "application/vnd.jupyter.widget-view+json": {
       "model_id": "28aa877091a741379648987a22f2d1c6",
       "version_major": 2,
       "version_minor": 0
      },
      "text/plain": [
       "Text(value='', description='which cloud provider ?', style=DescriptionStyle(description_width='initial'))"
      ]
     },
     "metadata": {},
     "output_type": "display_data"
    },
    {
     "data": {
      "application/vnd.jupyter.widget-view+json": {
       "model_id": "f5143ac8690e4daaa0b7ed462336fb7d",
       "version_major": 2,
       "version_minor": 0
      },
      "text/plain": [
       "Text(value='', description='Which cloud instance?', style=DescriptionStyle(description_width='initial'))"
      ]
     },
     "metadata": {},
     "output_type": "display_data"
    }
   ],
   "source": [
    "if (\"Cloud\" in infraType.value):\n",
    "        cloudProvider = widgets.Text(description=\"which cloud provider ?\", style= {'description_width': 'initial'})\n",
    "        display(cloudProvider)\n",
    "        cloudInstance = widgets.Text(description=\"Which cloud instance?\", style= {'description_width': 'initial'})\n",
    "        display(cloudInstance)"
   ]
  },
  {
   "cell_type": "code",
   "execution_count": 4,
   "id": "7baa5163",
   "metadata": {},
   "outputs": [
    {
     "name": "stdout",
     "output_type": "stream",
     "text": [
      "aws\n",
      "ax.large\n"
     ]
    }
   ],
   "source": [
    "print(cloudProvider.value)\n",
    "print(cloudInstance.value)"
   ]
  },
  {
   "cell_type": "markdown",
   "id": "25b8c9e1",
   "metadata": {},
   "source": [
    "## Components"
   ]
  },
  {
   "cell_type": "code",
   "execution_count": null,
   "id": "79110b15",
   "metadata": {},
   "outputs": [],
   "source": []
  },
  {
   "cell_type": "markdown",
   "id": "aa21b2c4",
   "metadata": {},
   "source": [
    "We should be able to add as many components as we want. "
   ]
  },
  {
   "cell_type": "code",
   "execution_count": 89,
   "id": "8c260490",
   "metadata": {},
   "outputs": [
    {
     "data": {
      "application/vnd.jupyter.widget-view+json": {
       "model_id": "82e9876d314a4c06a45de73f59a12577",
       "version_major": 2,
       "version_minor": 0
      },
      "text/plain": [
       "Text(value='', description='Component name: ', style=DescriptionStyle(description_width='initial'))"
      ]
     },
     "metadata": {},
     "output_type": "display_data"
    },
    {
     "data": {
      "application/vnd.jupyter.widget-view+json": {
       "model_id": "31e037fe60e04dc08b3e14b7232fc5f4",
       "version_major": 2,
       "version_minor": 0
      },
      "text/plain": [
       "IntText(value=8, description='Number of components: ', style=DescriptionStyle(description_width='initial'))"
      ]
     },
     "metadata": {},
     "output_type": "display_data"
    },
    {
     "data": {
      "application/vnd.jupyter.widget-view+json": {
       "model_id": "5b87b2d7dba94e7cbfbd5c1c9f8ec833",
       "version_major": 2,
       "version_minor": 0
      },
      "text/plain": [
       "IntText(value=32, description='Size of the memory: ', style=DescriptionStyle(description_width='initial'))"
      ]
     },
     "metadata": {},
     "output_type": "display_data"
    },
    {
     "data": {
      "application/vnd.jupyter.widget-view+json": {
       "model_id": "3e1263fc1a8d40e3852f0b128c52590a",
       "version_major": 2,
       "version_minor": 0
      },
      "text/plain": [
       "Text(value='', description='Manufacturer: ', style=DescriptionStyle(description_width='initial'))"
      ]
     },
     "metadata": {},
     "output_type": "display_data"
    },
    {
     "data": {
      "application/vnd.jupyter.widget-view+json": {
       "model_id": "8d6d966784674eabb9a7d1ca384eecea",
       "version_major": 2,
       "version_minor": 0
      },
      "text/plain": [
       "Text(value='', description='Family: ', style=DescriptionStyle(description_width='initial'))"
      ]
     },
     "metadata": {},
     "output_type": "display_data"
    },
    {
     "data": {
      "application/vnd.jupyter.widget-view+json": {
       "model_id": "ec01e5490a114c1080abe5ff201057df",
       "version_major": 2,
       "version_minor": 0
      },
      "text/plain": [
       "Text(value='', description='Series: ', style=DescriptionStyle(description_width='initial'))"
      ]
     },
     "metadata": {},
     "output_type": "display_data"
    },
    {
     "data": {
      "application/vnd.jupyter.widget-view+json": {
       "model_id": "7873295d408f442591c5b4d4a1ce7a72",
       "version_major": 2,
       "version_minor": 0
      },
      "text/plain": [
       "FloatText(value=1.0, description='Share: ', style=DescriptionStyle(description_width='initial'))"
      ]
     },
     "metadata": {},
     "output_type": "display_data"
    },
    {
     "data": {
      "application/vnd.jupyter.widget-view+json": {
       "model_id": "d63f26a94f3f472b99234899cdc95e7c",
       "version_major": 2,
       "version_minor": 0
      },
      "text/plain": [
       "Button(button_style='success', description='Add the component', icon='check', style=ButtonStyle(), tooltip='Cl…"
      ]
     },
     "metadata": {},
     "output_type": "display_data"
    }
   ],
   "source": [
    "componentName = widgets.Text(description=\"Component name: \", style= {'description_width': 'initial'}, font=(\"Helvetica\", 12, \"bold\"))\n",
    "display(componentName)\n",
    "\n",
    "nbComponent = widgets.IntText(description=\"Number of components: \", value=8, min=0,style= {'description_width': 'initial'})\n",
    "display(nbComponent) \n",
    "\n",
    "memorySize = widgets.IntText(description=\"Size of the memory: \", value=32, min=0,style= {'description_width': 'initial'})\n",
    "display(memorySize) \n",
    "\n",
    "manufacturer = widgets.Text(description=\"Manufacturer: \", min=0,style= {'description_width': 'initial'})\n",
    "display(manufacturer) \n",
    "\n",
    "family = widgets.Text(description=\"Family: \",min=0,style= {'description_width': 'initial'})\n",
    "display(family) \n",
    "\n",
    "series = widgets.Text(description=\"Series: \",min=0,style= {'description_width': 'initial'})\n",
    "display(series) \n",
    "\n",
    "share = widgets.FloatText(description=\"Share: \",value=1,min=0, max=1,style= {'description_width': 'initial'})\n",
    "display(share) \n",
    "\n",
    "#button add the component \n",
    "button = widgets.Button(\n",
    "    description='Add the component',\n",
    "    disabled=False,\n",
    "    button_style='success', # 'success', 'info', 'warning', 'danger' or ''\n",
    "    tooltip='Click me',\n",
    "    icon='check' # (FontAwesome names without the `fa-` prefix)\n",
    ")\n",
    "button"
   ]
  },
  {
   "cell_type": "code",
   "execution_count": null,
   "id": "d349ad89",
   "metadata": {},
   "outputs": [],
   "source": [
    "button.on_click(foo)"
   ]
  },
  {
   "cell_type": "markdown",
   "id": "32ac6229",
   "metadata": {},
   "source": [
    "# Questions coming for the tabular document"
   ]
  },
  {
   "cell_type": "code",
   "execution_count": 6,
   "id": "19188384",
   "metadata": {},
   "outputs": [
    {
     "name": "stdout",
     "output_type": "stream",
     "text": [
      "          Contexte   Categorie           Name SubObjects     Type Mandatory  \\\n",
      "0   infrastructure         NaN                       NaN    Objet      True   \n",
      "1   infrastructure  basicField      infraType        NaN     Enum      True   \n",
      "2   infrastructure  basicField  cloudProvider        NaN   String     False   \n",
      "3   infrastructure  basicField  cloudInstance        NaN   String     False   \n",
      "4   infrastructure  basicField     components  component  Tableau      True   \n",
      "5   infrastructure   component            NaN        NaN    Objet      True   \n",
      "6   infrastructure   component  componentName        NaN   String      True   \n",
      "7   infrastructure   component    nbComponent        NaN  Integer      True   \n",
      "8   infrastructure   component     memorySize        NaN  Integer     False   \n",
      "9   infrastructure   component   manufacturer        NaN   String     False   \n",
      "10  infrastructure   component         family        NaN   String     False   \n",
      "11  infrastructure   component         series        NaN   String     False   \n",
      "12  infrastructure   component          share        NaN   Float      False   \n",
      "13             NaN         NaN            NaN        NaN      NaN       NaN   \n",
      "\n",
      "    Auto  CMD                                 EnumValues DefaultValue  \\\n",
      "0    NaN  NaN                                        NaN          NaN   \n",
      "1    0.0  NaN  publicCloud/privateCloud/onPremise/$other  publicCloud   \n",
      "2    0.0  NaN                                        NaN          NaN   \n",
      "3    0.0  NaN                                        NaN          NaN   \n",
      "4    0.0  NaN                                        NaN          NaN   \n",
      "5    0.0  NaN                                        NaN          NaN   \n",
      "6    0.0  NaN                                        NaN          NaN   \n",
      "7    0.0  NaN                                        NaN          NaN   \n",
      "8    0.0  NaN                                        NaN          NaN   \n",
      "9    0.0  NaN                                        NaN          NaN   \n",
      "10   0.0  NaN                                        NaN          NaN   \n",
      "11   0.0  NaN                                        NaN          NaN   \n",
      "12   0.0  NaN                                        NaN          NaN   \n",
      "13   NaN  NaN                                        NaN          NaN   \n",
      "\n",
      "                                      Question         WidgetType  \\\n",
      "0                                          NaN                NaN   \n",
      "1   What type of infrastructure did you use ?    widgets.Dropdown   \n",
      "2                       Which cloud provider ?       widgets.Text   \n",
      "3                        Which cloud instance?       widgets.Text   \n",
      "4                                          NaN                NaN   \n",
      "5                                          NaN                NaN   \n",
      "6                             Component name:        widgets.Text   \n",
      "7                       Number of components:     widgets.IntText   \n",
      "8                         Size of the memory:     widgets.IntText   \n",
      "9                               Manufacturer:        widgets.Text   \n",
      "10                                    Family:        widgets.Text   \n",
      "11                                    Series:        widgets.Text   \n",
      "12                   Share (between 0 and 1):   widgets.FloatText   \n",
      "13                                         NaN                NaN   \n",
      "\n",
      "    Unnamed: 12                                        Unnamed: 13  \n",
      "0           NaN                                                NaN  \n",
      "1           NaN                                                NaN  \n",
      "2           NaN  comment mettre la relation, if infraType conta...  \n",
      "3           NaN                                                NaN  \n",
      "4           NaN              comment ajouter plusieurs composants?  \n",
      "5           NaN                                                NaN  \n",
      "6           NaN                                                NaN  \n",
      "7           NaN                                                NaN  \n",
      "8           NaN                                                NaN  \n",
      "9           NaN                                                NaN  \n",
      "10          NaN                                                NaN  \n",
      "11          NaN                                                NaN  \n",
      "12          NaN                       fixer entre 0 et 1 la valuer  \n",
      "13          NaN  widgetType pourra être deviné depuis le Type d...  \n"
     ]
    }
   ],
   "source": [
    "import pandas as pd\n",
    "\n",
    "df = pd.read_excel(r\".\\datamodel_to_tabular.xlsx\", sheet_name=\"Sheet1\")\n",
    "\n",
    "print(df)"
   ]
  },
  {
   "cell_type": "code",
   "execution_count": 14,
   "id": "01ec106d",
   "metadata": {},
   "outputs": [
    {
     "name": "stdout",
     "output_type": "stream",
     "text": [
      "         Contexte   Categorie        Name SubObjects   Type Mandatory  Auto  \\\n",
      "0  infrastructure         NaN                    NaN  Objet      True   NaN   \n",
      "1  infrastructure  basicField   infraType        NaN   Enum      True   0.0   \n",
      "\n",
      "   CMD                                 EnumValues DefaultValue  \\\n",
      "0  NaN                                        NaN          NaN   \n",
      "1  NaN  publicCloud/privateCloud/onPremise/$other  publicCloud   \n",
      "\n",
      "                                     Question        WidgetType  Unnamed: 12  \\\n",
      "0                                         NaN               NaN          NaN   \n",
      "1  What type of infrastructure did you use ?   widgets.Dropdown          NaN   \n",
      "\n",
      "  Unnamed: 13  \n",
      "0         NaN  \n",
      "1         NaN  \n"
     ]
    }
   ],
   "source": [
    "print(df.head(2))"
   ]
  },
  {
   "cell_type": "code",
   "execution_count": 15,
   "id": "6bf0227f",
   "metadata": {},
   "outputs": [
    {
     "name": "stdout",
     "output_type": "stream",
     "text": [
      "<class 'pandas.core.frame.DataFrame'>\n",
      "RangeIndex: 14 entries, 0 to 13\n",
      "Data columns (total 14 columns):\n",
      " #   Column        Non-Null Count  Dtype  \n",
      "---  ------        --------------  -----  \n",
      " 0   Contexte      13 non-null     object \n",
      " 1   Categorie     12 non-null     object \n",
      " 2   Name          12 non-null     object \n",
      " 3   SubObjects    1 non-null      object \n",
      " 4   Type          13 non-null     object \n",
      " 5   Mandatory     13 non-null     object \n",
      " 6   Auto          12 non-null     float64\n",
      " 7   CMD           0 non-null      float64\n",
      " 8   EnumValues    1 non-null      object \n",
      " 9   DefaultValue  1 non-null      object \n",
      " 10  Question      10 non-null     object \n",
      " 11  WidgetType    10 non-null     object \n",
      " 12  Unnamed: 12   0 non-null      float64\n",
      " 13  Unnamed: 13   4 non-null      object \n",
      "dtypes: float64(3), object(11)\n",
      "memory usage: 1.7+ KB\n",
      "None\n"
     ]
    }
   ],
   "source": [
    "print(df.info())"
   ]
  },
  {
   "cell_type": "code",
   "execution_count": 12,
   "id": "5b5f4d87",
   "metadata": {},
   "outputs": [
    {
     "name": "stdout",
     "output_type": "stream",
     "text": [
      "Contexte        infrastructure\n",
      "Categorie                  NaN\n",
      "Name                          \n",
      "SubObjects                 NaN\n",
      "Type                     Objet\n",
      "Mandatory                 True\n",
      "Auto                       NaN\n",
      "CMD                        NaN\n",
      "EnumValues                 NaN\n",
      "DefaultValue               NaN\n",
      "Question                   NaN\n",
      "WidgetType                 NaN\n",
      "Unnamed: 12                NaN\n",
      "Unnamed: 13                NaN\n",
      "Name: 0, dtype: object\n"
     ]
    }
   ],
   "source": [
    "print(df.loc[0])"
   ]
  },
  {
   "cell_type": "code",
   "execution_count": 66,
   "id": "4fbf5b7d",
   "metadata": {},
   "outputs": [],
   "source": [
    "def g(a):\n",
    "    return a"
   ]
  },
  {
   "cell_type": "code",
   "execution_count": 67,
   "id": "b0f938a3",
   "metadata": {},
   "outputs": [
    {
     "name": "stdout",
     "output_type": "stream",
     "text": [
      "------------------------------------------------\n",
      "Index: 13\n",
      "Pandas(Contexte='infrastructure', Categorie=nan, Name='\\xa0', SubObjects=nan, Type='Objet', Mandatory=True, Auto=nan, CMD=nan, EnumValues=nan, DefaultValue=nan, Question=nan, WidgetType=nan, _12=nan, _13=nan)\n",
      "\n"
     ]
    },
    {
     "data": {
      "application/vnd.jupyter.widget-view+json": {
       "model_id": "f403b4dff2c14a8c8352ceafd9e189aa",
       "version_major": 2,
       "version_minor": 0
      },
      "text/plain": [
       "interactive(children=(Dropdown(description='Select Right Option', options=('publicCloud', 'privateCloud', 'onP…"
      ]
     },
     "metadata": {},
     "output_type": "display_data"
    },
    {
     "name": "stdout",
     "output_type": "stream",
     "text": [
      "publicCloud\n"
     ]
    }
   ],
   "source": [
    "for row in df.head(1).itertuples(index=False):\n",
    "    print(\"------------------------------------------------\")\n",
    "    print(f\"Index: {i}\")\n",
    "    print(f\"{row}\\n\")\n",
    "    if(row.Type==\"Objet\" and row.Mandatory==True):\n",
    "        infra = interactive(g , a=widgets.Dropdown(options=[\"publicCloud\",\"privateCloud\",\"onPremise\",\"$other\"], value= \"publicCloud\", description=\"Select Right Option\"))\n",
    "        display(infra)\n",
    "        print(infra.result)\n",
    "    "
   ]
  },
  {
   "cell_type": "markdown",
   "id": "16783beb",
   "metadata": {},
   "source": [
    "# Examples"
   ]
  },
  {
   "cell_type": "markdown",
   "id": "907dec3d",
   "metadata": {},
   "source": [
    "https://coderzcolumn.com/tutorials/python/interactive-widgets-in-jupyter-notebook-using-ipywidgets"
   ]
  },
  {
   "cell_type": "code",
   "execution_count": 44,
   "id": "ff815d38",
   "metadata": {},
   "outputs": [],
   "source": [
    "from IPython.display import display\n",
    "def f(a, b):\n",
    "    display(a + b)\n",
    "    return a+b"
   ]
  },
  {
   "cell_type": "code",
   "execution_count": 45,
   "id": "157184e8",
   "metadata": {},
   "outputs": [],
   "source": [
    "w = interactive(f, a=10, b=20)\n"
   ]
  },
  {
   "cell_type": "code",
   "execution_count": 46,
   "id": "26c53a06",
   "metadata": {},
   "outputs": [
    {
     "data": {
      "application/vnd.jupyter.widget-view+json": {
       "model_id": "5d7a9f02ba184533a56ad77b2890101b",
       "version_major": 2,
       "version_minor": 0
      },
      "text/plain": [
       "interactive(children=(IntSlider(value=10, description='a', max=30, min=-10), IntSlider(value=20, description='…"
      ]
     },
     "metadata": {},
     "output_type": "display_data"
    }
   ],
   "source": [
    "display(w)\n"
   ]
  },
  {
   "cell_type": "code",
   "execution_count": 68,
   "id": "f404fb48",
   "metadata": {},
   "outputs": [],
   "source": [
    "def g(a):\n",
    "    print(a)\n",
    "    return a"
   ]
  },
  {
   "cell_type": "code",
   "execution_count": 69,
   "id": "468dff5c",
   "metadata": {},
   "outputs": [],
   "source": [
    "w = interactive(g , a=widgets.Dropdown(options=[\"publicCloud\",\"privateCloud\",\"onPremise\",\"$other\"], value= \"publicCloud\", description=\"Select Right Option\"))\n"
   ]
  },
  {
   "cell_type": "code",
   "execution_count": 72,
   "id": "e309183f",
   "metadata": {},
   "outputs": [
    {
     "data": {
      "application/vnd.jupyter.widget-view+json": {
       "model_id": "293e4683d22d440b8e757a96aca2e26e",
       "version_major": 2,
       "version_minor": 0
      },
      "text/plain": [
       "interactive(children=(Dropdown(description='Select Right Option', index=2, options=('publicCloud', 'privateClo…"
      ]
     },
     "metadata": {},
     "output_type": "display_data"
    },
    {
     "name": "stdout",
     "output_type": "stream",
     "text": [
      "onPremise\n"
     ]
    }
   ],
   "source": [
    "display(w)\n",
    "print(w.result)"
   ]
  },
  {
   "cell_type": "code",
   "execution_count": 73,
   "id": "5a19f7c3",
   "metadata": {},
   "outputs": [
    {
     "name": "stdout",
     "output_type": "stream",
     "text": [
      "privateCloud\n"
     ]
    }
   ],
   "source": [
    "print(w.result)"
   ]
  },
  {
   "cell_type": "code",
   "execution_count": 12,
   "id": "79f45e2c",
   "metadata": {},
   "outputs": [
    {
     "data": {
      "application/vnd.jupyter.widget-view+json": {
       "model_id": "b39aa20a346e4e5083df96b1bf672098",
       "version_major": 2,
       "version_minor": 0
      },
      "text/plain": [
       "IntSlider(value=25, description='Integer Slider', max=50, min=10, step=2)"
      ]
     },
     "metadata": {},
     "output_type": "display_data"
    }
   ],
   "source": [
    "int_slider = widgets.IntSlider(min=10, max=50, value=25, step=2, description=\"Integer Slider\")\n",
    "int_slider"
   ]
  },
  {
   "cell_type": "code",
   "execution_count": 17,
   "id": "9be9c192",
   "metadata": {},
   "outputs": [
    {
     "data": {
      "application/vnd.jupyter.widget-view+json": {
       "model_id": "6940eb1a0eb6435bad00797c68a74b09",
       "version_major": 2,
       "version_minor": 0
      },
      "text/plain": [
       "FloatSlider(value=25.0, description='Float Slider', max=50.0, min=10.0, step=2.5)"
      ]
     },
     "metadata": {},
     "output_type": "display_data"
    }
   ],
   "source": [
    "float_slider = widgets.FloatSlider(min=10.0, max=50.0, value=25.0, step=2.5, description=\"Float Slider\")\n",
    "float_slider"
   ]
  },
  {
   "cell_type": "code",
   "execution_count": 18,
   "id": "8e93cc15",
   "metadata": {},
   "outputs": [
    {
     "data": {
      "application/vnd.jupyter.widget-view+json": {
       "model_id": "3f7537e45461408fa67afa3a305b08a6",
       "version_major": 2,
       "version_minor": 0
      },
      "text/plain": [
       "Checkbox(value=True, description='Check')"
      ]
     },
     "metadata": {},
     "output_type": "display_data"
    }
   ],
   "source": [
    "widgets.Checkbox(value=True, description=\"Check\")"
   ]
  },
  {
   "cell_type": "code",
   "execution_count": 19,
   "id": "43faf885",
   "metadata": {},
   "outputs": [
    {
     "data": {
      "application/vnd.jupyter.widget-view+json": {
       "model_id": "be88ead59092481c8fa03f14848d2186",
       "version_major": 2,
       "version_minor": 0
      },
      "text/plain": [
       "Button(description='Check', style=ButtonStyle())"
      ]
     },
     "metadata": {},
     "output_type": "display_data"
    }
   ],
   "source": [
    "widgets.Button(description=\"Check\")"
   ]
  },
  {
   "cell_type": "code",
   "execution_count": 20,
   "id": "7441771f",
   "metadata": {},
   "outputs": [
    {
     "data": {
      "application/vnd.jupyter.widget-view+json": {
       "model_id": "b2ed41552c4b4cb688c5322cce023625",
       "version_major": 2,
       "version_minor": 0
      },
      "text/plain": [
       "Dropdown(description='Select Right Option', options=('A', 'B', 'C', 'D'), value='A')"
      ]
     },
     "metadata": {},
     "output_type": "display_data"
    }
   ],
   "source": [
    "widgets.Dropdown(options=[\"A\",\"B\",\"C\",\"D\"], description=\"Select Right Option\")\n"
   ]
  },
  {
   "cell_type": "code",
   "execution_count": 32,
   "id": "be22c0dd",
   "metadata": {},
   "outputs": [
    {
     "data": {
      "application/vnd.jupyter.widget-view+json": {
       "model_id": "a1cd8cc0f87042fb893f790fbc821cb0",
       "version_major": 2,
       "version_minor": 0
      },
      "text/plain": [
       "Textarea(value='Please enter text here..')"
      ]
     },
     "metadata": {},
     "output_type": "display_data"
    }
   ],
   "source": [
    "text = widgets.Textarea(value=\"Please enter text here..\")\n",
    "display(text)"
   ]
  },
  {
   "cell_type": "code",
   "execution_count": 35,
   "id": "21a2a381",
   "metadata": {},
   "outputs": [
    {
     "name": "stdout",
     "output_type": "stream",
     "text": [
      "textdfe\n"
     ]
    }
   ],
   "source": [
    "print(text.value)"
   ]
  },
  {
   "cell_type": "code",
   "execution_count": null,
   "id": "5a641b66",
   "metadata": {},
   "outputs": [],
   "source": [
    "widgets."
   ]
  },
  {
   "cell_type": "code",
   "execution_count": 22,
   "id": "b16e9eb0",
   "metadata": {},
   "outputs": [
    {
     "data": {
      "application/vnd.jupyter.widget-view+json": {
       "model_id": "9d55309a9d444290b1fe6d9491dab7f5",
       "version_major": 2,
       "version_minor": 0
      },
      "text/plain": [
       "interactive(children=(IntSlider(value=25, description='a', max=50, min=10, step=2), IntSlider(value=25, descri…"
      ]
     },
     "metadata": {},
     "output_type": "display_data"
    }
   ],
   "source": [
    "\n",
    "def func3(a,b,c):\n",
    "    display((a+b)^c)\n",
    "\n",
    "w = interactive(func3,  a=widgets.IntSlider(min=10, max=50, value=25, step=2),\n",
    "                        b=widgets.IntSlider(min=10, max=50, value=25, step=2),\n",
    "                        c=widgets.IntSlider(min=10, max=50, value=25, step=2),\n",
    "                       )\n",
    "display(w)"
   ]
  },
  {
   "cell_type": "code",
   "execution_count": 28,
   "id": "d2a9cf20",
   "metadata": {},
   "outputs": [
    {
     "data": {
      "application/vnd.jupyter.widget-view+json": {
       "model_id": "c9f1b0ba38404473a730c76f01615131",
       "version_major": 2,
       "version_minor": 0
      },
      "text/plain": [
       "Output(layout=Layout(border='1px solid black'))"
      ]
     },
     "metadata": {},
     "output_type": "display_data"
    }
   ],
   "source": [
    "out = widgets.Output(layout={'border': '1px solid black'})\n",
    "out"
   ]
  },
  {
   "cell_type": "code",
   "execution_count": 29,
   "id": "cf937d3d",
   "metadata": {},
   "outputs": [],
   "source": [
    "with out:\n",
    "    for i in range(10):\n",
    "        print(i, 'Hello world!')"
   ]
  }
 ],
 "metadata": {
  "kernelspec": {
   "display_name": "Python 3 (ipykernel)",
   "language": "python",
   "name": "python3"
  },
  "language_info": {
   "codemirror_mode": {
    "name": "ipython",
    "version": 3
   },
   "file_extension": ".py",
   "mimetype": "text/x-python",
   "name": "python",
   "nbconvert_exporter": "python",
   "pygments_lexer": "ipython3",
   "version": "3.10.9"
  }
 },
 "nbformat": 4,
 "nbformat_minor": 5
}
